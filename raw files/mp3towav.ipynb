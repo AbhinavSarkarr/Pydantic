{
 "cells": [
  {
   "cell_type": "code",
   "execution_count": 1,
   "metadata": {},
   "outputs": [
    {
     "name": "stdout",
     "output_type": "stream",
     "text": [
      "Collecting pydub\n",
      "  Downloading pydub-0.25.1-py2.py3-none-any.whl (32 kB)\n",
      "Installing collected packages: pydub\n",
      "Successfully installed pydub-0.25.1\n"
     ]
    }
   ],
   "source": [
    "!pip install pydub"
   ]
  },
  {
   "cell_type": "code",
   "execution_count": 2,
   "metadata": {},
   "outputs": [
    {
     "name": "stdout",
     "output_type": "stream",
     "text": [
      "Successfully converted 'Saudi Crown Prince Mohammed bin Salman interview on Vision 2030 [English subtitles] - Part 13 [ ezmp3.cc ].mp3' to 'output.wav'.\n"
     ]
    }
   ],
   "source": [
    "from pydub import AudioSegment\n",
    "\n",
    "def convert_mp3_to_wav(mp3_file_path, wav_file_path):\n",
    "    try:\n",
    "        audio = AudioSegment.from_mp3(mp3_file_path)\n",
    "        \n",
    "        audio.export(wav_file_path, format=\"wav\")\n",
    "        print(f\"Successfully converted '{mp3_file_path}' to '{wav_file_path}'.\")\n",
    "    except Exception as e:\n",
    "        print(f\"Error during conversion: {e}\")\n",
    "\n",
    "mp3_path = \"Saudi Crown Prince Mohammed bin Salman interview on Vision 2030 [English subtitles] - Part 13 [ ezmp3.cc ].mp3\"  \n",
    "wav_path = \"output.wav\"  \n",
    "convert_mp3_to_wav(mp3_path, wav_path)\n"
   ]
  },
  {
   "cell_type": "code",
   "execution_count": 3,
   "metadata": {},
   "outputs": [
    {
     "name": "stdout",
     "output_type": "stream",
     "text": [
      "Successfully trimmed the file to 60.0 seconds.\n"
     ]
    }
   ],
   "source": [
    "from pydub import AudioSegment\n",
    "\n",
    "def trim_wav_file(wav_file_path, output_file_path, duration_ms=60000):\n",
    "    try:\n",
    "        audio = AudioSegment.from_wav(wav_file_path)\n",
    "        trimmed_audio = audio[:duration_ms]\n",
    "        trimmed_audio.export(output_file_path, format=\"wav\")\n",
    "        print(f\"Successfully trimmed the file to {duration_ms / 1000} seconds.\")\n",
    "    except Exception as e:\n",
    "        print(f\"Error during trimming: {e}\")\n",
    "\n",
    "input_wav_path = \"output.wav\"\n",
    "trimmed_wav_path = \"trimmed_output.wav\"  \n",
    "trim_wav_file(input_wav_path, trimmed_wav_path)\n"
   ]
  },
  {
   "cell_type": "code",
   "execution_count": null,
   "metadata": {},
   "outputs": [],
   "source": []
  }
 ],
 "metadata": {
  "kernelspec": {
   "display_name": "pydantic",
   "language": "python",
   "name": "python3"
  },
  "language_info": {
   "codemirror_mode": {
    "name": "ipython",
    "version": 3
   },
   "file_extension": ".py",
   "mimetype": "text/x-python",
   "name": "python",
   "nbconvert_exporter": "python",
   "pygments_lexer": "ipython3",
   "version": "3.10.12"
  }
 },
 "nbformat": 4,
 "nbformat_minor": 2
}
